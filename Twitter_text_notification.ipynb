{
  "nbformat": 4,
  "nbformat_minor": 0,
  "metadata": {
    "colab": {
      "name": "Twitter-text-notification",
      "version": "0.3.2",
      "provenance": [],
      "collapsed_sections": []
    },
    "kernelspec": {
      "name": "python3",
      "display_name": "Python 3"
    }
  },
  "cells": [
    {
      "cell_type": "markdown",
      "metadata": {
        "id": "4anGjUZuF_Hi",
        "colab_type": "text"
      },
      "source": [
        "#Initialize email information"
      ]
    },
    {
      "cell_type": "code",
      "metadata": {
        "id": "pLDFvtWCoPPS",
        "colab_type": "code",
        "colab": {}
      },
      "source": [
        "import smtplib\n",
        "from email.message import EmailMessage\n",
        "\n",
        "senderEmail = \"emailDedicatedToSendingTexts@gmail.com\"\n",
        "senderPassword = \"theEmailsPassword\"\n",
        "receiverNumber = 'aNumberToSendTo'#ex: 9512351242\n",
        "receiverProv = 'verizon'\n",
        "\n",
        "if receiverProv == 'verizon':\n",
        "  receiverEmail = receiverNumber +  '@vtext.com'\n",
        "elif receiverProv=='sprint':\n",
        "  receiverEmail = receiverNumber+'@messaging.sprintpcs.com'"
      ],
      "execution_count": 0,
      "outputs": []
    },
    {
      "cell_type": "markdown",
      "metadata": {
        "id": "CXW11YlEGIii",
        "colab_type": "text"
      },
      "source": [
        "#Create sendmail function"
      ]
    },
    {
      "cell_type": "code",
      "metadata": {
        "id": "KZJRqVp_0rP7",
        "colab_type": "code",
        "colab": {}
      },
      "source": [
        "def sendEmail(text,receiverEmail):\n",
        "  server = smtplib.SMTP('smtp.gmail.com', 587)\n",
        "  server.starttls()\n",
        "  server.login(senderEmail, senderPassword)\n",
        "\n",
        "  msg = EmailMessage()\n",
        "  msg['from'] = senderEmail\n",
        "  msg['to'] = receiverEmail\n",
        "  msg.set_content(text)\n",
        "\n",
        "  server.send_message(msg)\n",
        "  server.quit()"
      ],
      "execution_count": 0,
      "outputs": []
    },
    {
      "cell_type": "markdown",
      "metadata": {
        "id": "CNs8UWhvGNzy",
        "colab_type": "text"
      },
      "source": [
        "#Import libraries and grab first tweet"
      ]
    },
    {
      "cell_type": "code",
      "metadata": {
        "id": "w7yNn6MiwkFS",
        "colab_type": "code",
        "colab": {}
      },
      "source": [
        "import bs4 as bs\n",
        "import urllib.request\n",
        "import requests\n",
        "import json\n",
        "from bs4 import BeautifulSoup\n",
        "\n",
        "twitter_handle = 'Every3Minutes' #example twitter_handle\n",
        "\n",
        "source = urllib.request.urlopen('https://twitter.com/' + twitter_handle).read()\n",
        "soup = bs.BeautifulSoup(source,'lxml')\n",
        "tweet = soup.find('p','tweet-text')\n",
        "\n",
        "current = tweet.text\n",
        "\n"
      ],
      "execution_count": 0,
      "outputs": []
    },
    {
      "cell_type": "markdown",
      "metadata": {
        "id": "rujSD44XGXE0",
        "colab_type": "text"
      },
      "source": [
        "#Send text on change"
      ]
    },
    {
      "cell_type": "code",
      "metadata": {
        "id": "1QasOkAs0Iiw",
        "colab_type": "code",
        "colab": {}
      },
      "source": [
        "import time\n",
        "while True:\n",
        "  time.sleep(10)\n",
        "  source = urllib.request.urlopen('https://twitter.com/' + twitter_handle).read()\n",
        "  soup = bs.BeautifulSoup(source,'lxml')\n",
        "  tweet = soup.find('p','tweet-text')\n",
        "  if tweet.text != current:\n",
        "    sendEmail(\"new tweet from {} : {}\".format(twitter_handle,tweet.text),receiverEmail)\n",
        "    current = tweet.text\n"
      ],
      "execution_count": 0,
      "outputs": []
    }
  ]
}